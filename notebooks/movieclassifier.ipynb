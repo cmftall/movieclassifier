{
 "metadata": {
  "language_info": {
   "codemirror_mode": {
    "name": "ipython",
    "version": 3
   },
   "file_extension": ".py",
   "mimetype": "text/x-python",
   "name": "python",
   "nbconvert_exporter": "python",
   "pygments_lexer": "ipython3",
   "version": "3.9.4"
  },
  "orig_nbformat": 2,
  "kernelspec": {
   "name": "pythonjvsc74a57bd0d5db8f89a013d07fccae8607c506956f68956ac46c0a3a09b0fd4fdb7d869c7a",
   "display_name": "Python 3.9.4  ('.venv': venv)"
  },
  "metadata": {
   "interpreter": {
    "hash": "d5db8f89a013d07fccae8607c506956f68956ac46c0a3a09b0fd4fdb7d869c7a"
   }
  }
 },
 "nbformat": 4,
 "nbformat_minor": 2,
 "cells": [
  {
   "source": [
    "# MLOps - Movieclassifier"
   ],
   "cell_type": "markdown",
   "metadata": {}
  },
  {
   "source": [
    "Applying Machine Learning To Sentiment Analysis using IMDB sentiment dataset"
   ],
   "cell_type": "markdown",
   "metadata": {}
  },
  {
   "source": [
    "## Import Relevant Libraries"
   ],
   "cell_type": "markdown",
   "metadata": {}
  },
  {
   "cell_type": "code",
   "execution_count": 7,
   "metadata": {},
   "outputs": [],
   "source": [
    "import numpy as np\n",
    "import pandas as pd\n",
    "import tarfile\n",
    "import os"
   ]
  },
  {
   "source": [
    "## Data Collection"
   ],
   "cell_type": "markdown",
   "metadata": {}
  },
  {
   "source": [
    "We will  assemble the individual\n",
    "text documents from the decompressed download archive into a single CSV file.\n",
    "In the following code section, we will be reading the movie reviews into a pandas DataFrame object"
   ],
   "cell_type": "markdown",
   "metadata": {}
  },
  {
   "cell_type": "code",
   "execution_count": 2,
   "metadata": {},
   "outputs": [
    {
     "output_type": "stream",
     "name": "stderr",
     "text": [
      "0% [##############################] 100% | ETA: 00:00:00\n",
      "Total time elapsed: 00:02:20\n"
     ]
    }
   ],
   "source": [
    "# change the `basepath` to the directory of the\n",
    "# unzipped movie dataset\n",
    "\n",
    "basepath = '../data/raw/aclImdb'\n",
    "\n",
    "labels = {'pos': 1, 'neg': 0}\n",
    "pbar = pyprind.ProgBar(50000)\n",
    "df = pd.DataFrame()\n",
    "for s in ('test', 'train'):\n",
    "    for l in ('pos', 'neg'):\n",
    "        path = os.path.join(basepath, s, l)\n",
    "        for file in os.listdir(path):\n",
    "            with open(os.path.join(path, file), 'r', encoding='utf-8') as infile:\n",
    "                txt = infile.read()\n",
    "            df = df.append([[txt, labels[l]]], ignore_index=True)\n",
    "            pbar.update()\n",
    "df.columns = ['review', 'sentiment']"
   ]
  },
  {
   "source": [
    "In the preceding code, we first initialized a new progress bar object, pbar, with 50,000 iterations, which was the number of documents we were going to read in. Using the nested for loops, we iterated over the train and test subdirectories in the main aclImdb directory and read the individual text files from the pos and neg subdirectories that we eventually appended to the df pandas DataFrame, together with an integer class label (1 = positive and 0 = negative)."
   ],
   "cell_type": "markdown",
   "metadata": {}
  },
  {
   "source": [
    "Since the class labels in the assembled dataset are sorted, we will now shuffle DataFrame using the permutation function from the np.random submodule—\n",
    "this will be useful to split the dataset into training and test datasets in later sections, when we will stream the data from our local drive directly."
   ],
   "cell_type": "markdown",
   "metadata": {}
  },
  {
   "source": [
    "seed = 28\n",
    "np.random.seed(seed)\n",
    "df = df.reindex(np.random.permutation(df.index))"
   ],
   "cell_type": "code",
   "metadata": {},
   "execution_count": 8,
   "outputs": []
  },
  {
   "source": [
    "Lets see the dataframe"
   ],
   "cell_type": "markdown",
   "metadata": {}
  },
  {
   "cell_type": "code",
   "execution_count": 10,
   "metadata": {},
   "outputs": [
    {
     "output_type": "execute_result",
     "data": {
      "text/plain": [
       "                                                  review  sentiment\n",
       "30948  Streetfight (aka Coonskin) is a very unique fi...          1\n",
       "18366  Absolutely the worst experience I have ever be...          0\n",
       "10664  I think this movie deserves a 10 out of 10 bec...          1\n",
       "6899   Last evening I had the remarkable pleasure of ...          1\n",
       "21161  Wow! This is the movie that should be shown on...          0"
      ],
      "text/html": "<div>\n<style scoped>\n    .dataframe tbody tr th:only-of-type {\n        vertical-align: middle;\n    }\n\n    .dataframe tbody tr th {\n        vertical-align: top;\n    }\n\n    .dataframe thead th {\n        text-align: right;\n    }\n</style>\n<table border=\"1\" class=\"dataframe\">\n  <thead>\n    <tr style=\"text-align: right;\">\n      <th></th>\n      <th>review</th>\n      <th>sentiment</th>\n    </tr>\n  </thead>\n  <tbody>\n    <tr>\n      <th>30948</th>\n      <td>Streetfight (aka Coonskin) is a very unique fi...</td>\n      <td>1</td>\n    </tr>\n    <tr>\n      <th>18366</th>\n      <td>Absolutely the worst experience I have ever be...</td>\n      <td>0</td>\n    </tr>\n    <tr>\n      <th>10664</th>\n      <td>I think this movie deserves a 10 out of 10 bec...</td>\n      <td>1</td>\n    </tr>\n    <tr>\n      <th>6899</th>\n      <td>Last evening I had the remarkable pleasure of ...</td>\n      <td>1</td>\n    </tr>\n    <tr>\n      <th>21161</th>\n      <td>Wow! This is the movie that should be shown on...</td>\n      <td>0</td>\n    </tr>\n  </tbody>\n</table>\n</div>"
     },
     "metadata": {},
     "execution_count": 10
    }
   ],
   "source": [
    "df.head()"
   ]
  },
  {
   "source": [
    "For our own convenience, we will also store the assembled and shuffled movie review dataset as a CSV file:"
   ],
   "cell_type": "markdown",
   "metadata": {}
  },
  {
   "cell_type": "code",
   "execution_count": 9,
   "metadata": {},
   "outputs": [],
   "source": [
    "df.to_csv('../data/interim/movie_data.csv', index=False)"
   ]
  },
  {
   "source": [
    "## EDA"
   ],
   "cell_type": "markdown",
   "metadata": {}
  },
  {
   "cell_type": "code",
   "execution_count": null,
   "metadata": {},
   "outputs": [],
   "source": []
  },
  {
   "source": [
    "## Training"
   ],
   "cell_type": "markdown",
   "metadata": {}
  },
  {
   "cell_type": "code",
   "execution_count": null,
   "metadata": {},
   "outputs": [],
   "source": []
  }
 ]
}